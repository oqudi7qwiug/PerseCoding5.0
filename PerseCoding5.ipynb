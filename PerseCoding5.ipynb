{
  "nbformat": 4,
  "nbformat_minor": 0,
  "metadata": {
    "colab": {
      "provenance": [],
      "authorship_tag": "ABX9TyNkH0+EtgsZuvG30WtMVVWa",
      "include_colab_link": true
    },
    "kernelspec": {
      "name": "python3",
      "display_name": "Python 3"
    },
    "language_info": {
      "name": "python"
    }
  },
  "cells": [
    {
      "cell_type": "markdown",
      "metadata": {
        "id": "view-in-github",
        "colab_type": "text"
      },
      "source": [
        "<a href=\"https://colab.research.google.com/github/oqudi7qwiug/PerseCoding5.0/blob/main/PerseCoding5.ipynb\" target=\"_parent\"><img src=\"https://colab.research.google.com/assets/colab-badge.svg\" alt=\"Open In Colab\"/></a>"
      ]
    },
    {
      "cell_type": "markdown",
      "source": [
        "Q1) A single line of six space separated positive whole numbers will be entered. Output the\n",
        "sum of these numbers once having discounted any 13s (which are very unlucky) and also any\n",
        "number that comes immediately after a 13.\n"
      ],
      "metadata": {
        "id": "akoy6IsUj2GF"
      }
    },
    {
      "cell_type": "code",
      "source": [
        "#Final Version\n",
        "\n",
        "x = input(\"Enter Your Text: \" )\n",
        "\n",
        "list_x = x.split(\" \")\n",
        "\n",
        "\n",
        "\n",
        "for i in range(len(list_x)):\n",
        "\n",
        " if i-1>=0 and list_x[i-1] == \"13\":\n",
        "        list_x[i] = \"0\"\n",
        "       \n",
        "for e in range(len(list_x)):\n",
        "   if list_x[e]==\"13\":\n",
        "     list_x[e]=\"0\"\n",
        "\n",
        "\n",
        "for g in range(len(list_x)):\n",
        "    list_x[g]=int(list_x[g])\n",
        "\n",
        "sum(list_x)\n",
        "\n"
      ],
      "metadata": {
        "colab": {
          "base_uri": "https://localhost:8080/"
        },
        "id": "TfxknRsAs0Pr",
        "outputId": "8cae48ff-3cb9-46bc-d27e-57fe55876315"
      },
      "execution_count": 1,
      "outputs": [
        {
          "name": "stdout",
          "output_type": "stream",
          "text": [
            "Enter Your Text: 13 4 5 13 8 9 3 12\n"
          ]
        },
        {
          "output_type": "execute_result",
          "data": {
            "text/plain": [
              "29"
            ]
          },
          "metadata": {},
          "execution_count": 1
        }
      ]
    },
    {
      "cell_type": "code",
      "source": [
        "x = 12 13 14 10 3 13 3\n",
        "\n",
        "for i in x:\n",
        "  if i == 13:\n",
        "    i = 0\n",
        "  if i[] == x.index(13) + 1:\n",
        "    i = 0\n",
        "\n",
        "print(i)\n",
        "\n",
        "\n",
        " "
      ],
      "metadata": {
        "colab": {
          "base_uri": "https://localhost:8080/",
          "height": 130
        },
        "id": "b5K2_ypfj2eY",
        "outputId": "77f8a1e5-dfa9-49ba-c649-7aed101d086d"
      },
      "execution_count": null,
      "outputs": [
        {
          "output_type": "error",
          "ename": "SyntaxError",
          "evalue": "ignored",
          "traceback": [
            "\u001b[0;36m  File \u001b[0;32m\"<ipython-input-23-5439cbd43b3b>\"\u001b[0;36m, line \u001b[0;32m1\u001b[0m\n\u001b[0;31m    x = 12 13 14 10 3 13 3\u001b[0m\n\u001b[0m           ^\u001b[0m\n\u001b[0;31mSyntaxError\u001b[0m\u001b[0;31m:\u001b[0m invalid syntax\n"
          ]
        }
      ]
    },
    {
      "cell_type": "markdown",
      "source": [
        "general note:\n",
        "convert useless string to integers; mathematical values u can add\n",
        "\n",
        "\n",
        " try to use index and hope can index +1 to get rid of what comes after 13???"
      ],
      "metadata": {
        "id": "AIpKIIztBxLH"
      }
    },
    {
      "cell_type": "code",
      "source": [
        "x = input(\"enter your numbers: \")\n",
        "print(x)\n",
        "\n",
        "list_x = x.split(\" \")\n",
        "\n",
        "add_up = 0\n",
        "\n",
        "for i in list_x:\n",
        "  if int(i) != 13 :\n",
        "    print(i)\n",
        "  \n",
        "  if list_x.index(13)\n",
        "\n",
        "for i in range(len(list_X)):\n",
        "  if list_x == 13\n",
        "  \n",
        "\n",
        " \n",
        "\n",
        "\n"
      ],
      "metadata": {
        "colab": {
          "base_uri": "https://localhost:8080/"
        },
        "id": "DRr9148aAZ51",
        "outputId": "59420489-cc1e-4b70-ccc5-5a87c8fab0e5"
      },
      "execution_count": null,
      "outputs": [
        {
          "output_type": "stream",
          "name": "stdout",
          "text": [
            "enter your numbers: 5 13 12 14 15\n",
            "5 13 12 14 15\n",
            "5\n",
            "12\n",
            "14\n",
            "15\n"
          ]
        }
      ]
    },
    {
      "cell_type": "code",
      "source": [
        "x = \"4 13 12 11 13 5\"\n",
        "\n",
        "list_x = x.split(\" \")\n",
        "\n",
        "\n",
        "\n",
        "for i in range(len(list_x)):\n",
        "\n",
        " if i > 0 and list_x[i-1] == \"13\":\n",
        "        list_x[i] = \"0\"\n",
        "       \n",
        " if list_x[i]==\"13\":\n",
        "   list_x[i]=\"0\"\n",
        "\n",
        " else:\n",
        "   list_x[i]=list_x[i]\n",
        "\n",
        "print(list_x)\n",
        "\n",
        "\n",
        "\n",
        "    \n",
        "        \n",
        "        \n",
        "\n",
        "\n",
        "\n",
        " \n",
        "\n",
        "\n",
        "\n",
        " \n",
        "   \n",
        "       \n",
        "\n",
        "\n"
      ],
      "metadata": {
        "colab": {
          "base_uri": "https://localhost:8080/"
        },
        "id": "a-DaxNltObL4",
        "outputId": "755c714e-a37c-4581-fe97-17fe74d7b724"
      },
      "execution_count": null,
      "outputs": [
        {
          "output_type": "stream",
          "name": "stdout",
          "text": [
            "['4', '0', '12', '11', '0', '5']\n"
          ]
        }
      ]
    },
    {
      "cell_type": "code",
      "source": [
        "x = \"5 4 13 6\"\n",
        "\n",
        "list_x = x.split(\" \")\n",
        "print(list_x)\n",
        "\n",
        "\n",
        "for i in range(len(list_x)):\n",
        "  if i > 0 and list_x[i-1] == \"13\":\n",
        "        list_x[i] = \"0\"\n",
        "        \n",
        "  elif list_x[i]==\"13\":\n",
        "      list_x[i]=\"0\"\n",
        "\n",
        "  print(list_x)"
      ],
      "metadata": {
        "colab": {
          "base_uri": "https://localhost:8080/"
        },
        "id": "xwj-fxBkehPE",
        "outputId": "850248ed-fd13-4f65-c497-d4248a34e2d1"
      },
      "execution_count": null,
      "outputs": [
        {
          "output_type": "stream",
          "name": "stdout",
          "text": [
            "['5', '4', '13', '6']\n",
            "['5', '4', '13', '6']\n",
            "['5', '4', '13', '6']\n",
            "['5', '4', '0', '6']\n",
            "['5', '4', '0', '6']\n"
          ]
        }
      ]
    },
    {
      "cell_type": "code",
      "source": [
        "x = \"5 4 13 6\"\n",
        "list_x = x.split(\" \")\n",
        "print(list_x)\n",
        "\n",
        "for i in range(len(list_x)):\n",
        "    if list_x[i] == \"13\":\n",
        "        list_x[i] = \"0\"\n",
        "\n",
        "\n",
        "print(list_x)\n"
      ],
      "metadata": {
        "colab": {
          "base_uri": "https://localhost:8080/"
        },
        "id": "xRf0gj46fY-b",
        "outputId": "aa3aad82-0f85-4d09-cbad-bec3e85a097c"
      },
      "execution_count": null,
      "outputs": [
        {
          "output_type": "stream",
          "name": "stdout",
          "text": [
            "['5', '4', '13', '6']\n",
            "['5', '4', '0', '6']\n"
          ]
        }
      ]
    },
    {
      "cell_type": "code",
      "source": [
        "numbers = [1, 2, 3, 4, 5, 6] # Replace these numbers with your desired values\n",
        "line = ' '.join(str(num) for num in numbers)\n",
        "print(line)\n",
        "\n",
        "number= \"1 2 13 4 5 13 4\"\n",
        "\n",
        "for i in number:\n",
        "  int(i)\n",
        "  "
      ],
      "metadata": {
        "colab": {
          "base_uri": "https://localhost:8080/",
          "height": 252
        },
        "id": "wH44DYGe9dv4",
        "outputId": "8fefbcf6-ed31-4188-f6a1-9eadd4f4cde2"
      },
      "execution_count": null,
      "outputs": [
        {
          "output_type": "stream",
          "name": "stdout",
          "text": [
            "1 2 3 4 5 6\n",
            "1\n"
          ]
        },
        {
          "output_type": "error",
          "ename": "ValueError",
          "evalue": "ignored",
          "traceback": [
            "\u001b[0;31m---------------------------------------------------------------------------\u001b[0m",
            "\u001b[0;31mValueError\u001b[0m                                Traceback (most recent call last)",
            "\u001b[0;32m<ipython-input-28-3c79bd601924>\u001b[0m in \u001b[0;36m<module>\u001b[0;34m\u001b[0m\n\u001b[1;32m      6\u001b[0m \u001b[0;34m\u001b[0m\u001b[0m\n\u001b[1;32m      7\u001b[0m \u001b[0;32mfor\u001b[0m \u001b[0mi\u001b[0m \u001b[0;32min\u001b[0m \u001b[0mnumber\u001b[0m\u001b[0;34m:\u001b[0m\u001b[0;34m\u001b[0m\u001b[0;34m\u001b[0m\u001b[0m\n\u001b[0;32m----> 8\u001b[0;31m   \u001b[0mint\u001b[0m\u001b[0;34m(\u001b[0m\u001b[0mi\u001b[0m\u001b[0;34m)\u001b[0m\u001b[0;34m\u001b[0m\u001b[0;34m\u001b[0m\u001b[0m\n\u001b[0m\u001b[1;32m      9\u001b[0m   \u001b[0mprint\u001b[0m\u001b[0;34m(\u001b[0m\u001b[0mi\u001b[0m\u001b[0;34m)\u001b[0m\u001b[0;34m\u001b[0m\u001b[0;34m\u001b[0m\u001b[0m\n",
            "\u001b[0;31mValueError\u001b[0m: invalid literal for int() with base 10: ' '"
          ]
        }
      ]
    }
  ]
}